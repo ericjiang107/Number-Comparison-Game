{
 "cells": [
  {
   "cell_type": "code",
   "execution_count": 12,
   "id": "fe445700",
   "metadata": {},
   "outputs": [],
   "source": [
    "# Creation of player vs. computer, number comparison game\n",
    "import random\n",
    "\n",
    "class compgame():\n",
    "    def __init__(self):\n",
    "        self.numbers = range(0,100)\n",
    "\n",
    "    def computer(self):\n",
    "        compinput = random.choice(self.numbers)\n",
    "        return compinput\n",
    "\n",
    "# Testing computer randomizer\n",
    "# select = compgame()\n",
    "# print(select.computer())\n",
    "\n",
    "    def player(self):\n",
    "        number = int(input(\"Please enter a number: \"))\n",
    "        print(f'The number you have chosen is: {number}')\n",
    "        return number\n",
    "    \n",
    "# Testing player number\n",
    "# select = compgame()\n",
    "# select.player()\n",
    "\n",
    "    def compare(self, compinput, number):\n",
    "        if compinput > number:\n",
    "            print(f'You lose! Computer selected: ({compinput}) while you chose: ({number})')\n",
    "        elif compinput < number:\n",
    "            print(f'You win! Computer selected: ({compinput}) while you chose: ({number})')\n",
    "        else:\n",
    "            print(f\"It's a tie! Computer selected: ({compinput}) while you chose: ({number})\")\n",
    "    "
   ]
  },
  {
   "cell_type": "code",
   "execution_count": null,
   "id": "376cbd6e",
   "metadata": {},
   "outputs": [
    {
     "name": "stdout",
     "output_type": "stream",
     "text": [
      "Please enter 's' to start or 'q' to quit: s\n",
      "Please enter a single digit number from 0 - 9: 12\n",
      "The number you have chosen is: 12\n",
      "You win! Computer selected: (6) while you chose: (12)\n",
      "Please enter 's' to start or 'q' to quit: s\n",
      "Please enter a single digit number from 0 - 9: 125\n",
      "The number you have chosen is: 125\n",
      "You win! Computer selected: (1) while you chose: (125)\n",
      "Please enter 's' to start or 'q' to quit: s\n",
      "Please enter a single digit number from 0 - 9: 1\n",
      "The number you have chosen is: 1\n",
      "You lose! Computer selected: (8) while you chose: (1)\n"
     ]
    }
   ],
   "source": [
    "def run():\n",
    "    start = compgame()\n",
    "    while True:\n",
    "        response = input(\"Please enter 's' to start or 'q' to quit: \")\n",
    "        if response.lower() == \"s\":\n",
    "            x = start.computer()\n",
    "            y = start.player()\n",
    "            start.compare(x, y)\n",
    "        elif response.lower() == \"q\":\n",
    "            print(\"Thank you for trying!\")\n",
    "            break\n",
    "        else:\n",
    "            print(\"Sorry, this is not valid, please try again.\")\n",
    "run()"
   ]
  },
  {
   "cell_type": "code",
   "execution_count": null,
   "id": "bc48a635",
   "metadata": {},
   "outputs": [],
   "source": []
  }
 ],
 "metadata": {
  "kernelspec": {
   "display_name": "Python 3",
   "language": "python",
   "name": "python3"
  },
  "language_info": {
   "codemirror_mode": {
    "name": "ipython",
    "version": 3
   },
   "file_extension": ".py",
   "mimetype": "text/x-python",
   "name": "python",
   "nbconvert_exporter": "python",
   "pygments_lexer": "ipython3",
   "version": "3.9.5"
  }
 },
 "nbformat": 4,
 "nbformat_minor": 5
}
