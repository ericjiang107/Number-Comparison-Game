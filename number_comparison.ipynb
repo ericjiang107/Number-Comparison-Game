{
 "cells": [
  {
   "cell_type": "code",
   "execution_count": 26,
   "id": "86e14cbc",
   "metadata": {},
   "outputs": [],
   "source": [
    "# Creation of player vs. computer, number comparison game\n",
    "import random\n",
    "\n",
    "class compgame():\n",
    "    def __init__(self, numbers):\n",
    "        self.numbers = numbers\n",
    "\n",
    "    def computer(self):\n",
    "        compinput = random.randint(0,1000)\n",
    "        return compinput\n",
    "\n",
    "# Testing computer randomizer\n",
    "# select = compgame(0)\n",
    "# print(select.computer())\n",
    "\n",
    "    def player(self):\n",
    "        number = int(input(\"Please enter a number: \"))\n",
    "        print(f'The number you have chosen is: {number}')\n",
    "        return number\n",
    "    \n",
    "# Testing player number\n",
    "# select = compgame()\n",
    "# select.player()\n",
    "\n",
    "    def compare(self, compinput, number):\n",
    "        if compinput > number:\n",
    "            print(f'You lose! Computer selected: ({compinput}) while you chose: ({number})')\n",
    "        elif compinput < number:\n",
    "            print(f'You win! Computer selected: ({compinput}) while you chose: ({number})')\n",
    "        else:\n",
    "            print(f\"It's a tie! Computer selected: ({compinput}) while you chose: ({number})\")\n",
    "    "
   ]
  },
  {
   "cell_type": "code",
   "execution_count": null,
   "id": "81935b7a",
   "metadata": {},
   "outputs": [
    {
     "name": "stdout",
     "output_type": "stream",
     "text": [
      "Please enter 's' to start or 'q' to quit: s\n",
      "Please enter a number: 5\n",
      "The number you have chosen is: 5\n",
      "You lose! Computer selected: (992) while you chose: (5)\n",
      "Please enter 's' to start or 'q' to quit: s\n",
      "Please enter a number: 126\n",
      "The number you have chosen is: 126\n",
      "You lose! Computer selected: (530) while you chose: (126)\n",
      "Please enter 's' to start or 'q' to quit: s\n",
      "Please enter a number: 560\n",
      "The number you have chosen is: 560\n",
      "You win! Computer selected: (201) while you chose: (560)\n"
     ]
    }
   ],
   "source": [
    "def run():\n",
    "    start = compgame(0)\n",
    "    while True:\n",
    "        response = input(\"Please enter 's' to start or 'q' to quit: \")\n",
    "        if response.lower() == \"s\":\n",
    "            x = start.computer()\n",
    "            y = start.player()\n",
    "            start.compare(x, y)\n",
    "        elif response.lower() == \"q\":\n",
    "            print(\"Thank you for trying!\")\n",
    "            break\n",
    "        else:\n",
    "            print(\"Sorry, this is not valid, please try again.\")\n",
    "run()"
   ]
  },
  {
   "cell_type": "code",
   "execution_count": null,
   "id": "5be58626",
   "metadata": {},
   "outputs": [],
   "source": []
  }
 ],
 "metadata": {
  "kernelspec": {
   "display_name": "Python 3",
   "language": "python",
   "name": "python3"
  },
  "language_info": {
   "codemirror_mode": {
    "name": "ipython",
    "version": 3
   },
   "file_extension": ".py",
   "mimetype": "text/x-python",
   "name": "python",
   "nbconvert_exporter": "python",
   "pygments_lexer": "ipython3",
   "version": "3.9.5"
  }
 },
 "nbformat": 4,
 "nbformat_minor": 5
}
